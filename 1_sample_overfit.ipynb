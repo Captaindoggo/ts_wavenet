{
  "nbformat": 4,
  "nbformat_minor": 0,
  "metadata": {
    "kernelspec": {
      "display_name": "Python 3",
      "language": "python",
      "name": "python3"
    },
    "language_info": {
      "codemirror_mode": {
        "name": "ipython",
        "version": 3
      },
      "file_extension": ".py",
      "mimetype": "text/x-python",
      "name": "python",
      "nbconvert_exporter": "python",
      "pygments_lexer": "ipython3",
      "version": "3.7.7"
    },
    "colab": {
      "name": "homework_testing.ipynb",
      "provenance": []
    },
    "accelerator": "GPU",
    "widgets": {
      "application/vnd.jupyter.widget-state+json": {
        "0810e4d1fcd042f7ace4b58973ca42e5": {
          "model_module": "@jupyter-widgets/controls",
          "model_name": "HBoxModel",
          "state": {
            "_view_name": "HBoxView",
            "_dom_classes": [],
            "_model_name": "HBoxModel",
            "_view_module": "@jupyter-widgets/controls",
            "_model_module_version": "1.5.0",
            "_view_count": null,
            "_view_module_version": "1.5.0",
            "box_style": "",
            "layout": "IPY_MODEL_a9b8c5a3467e442a806ec17a745e985d",
            "_model_module": "@jupyter-widgets/controls",
            "children": [
              "IPY_MODEL_1d19e5c201fe434daa8d1c606c440cef",
              "IPY_MODEL_f55ea322752847a086dc34889abd00b2"
            ]
          }
        },
        "a9b8c5a3467e442a806ec17a745e985d": {
          "model_module": "@jupyter-widgets/base",
          "model_name": "LayoutModel",
          "state": {
            "_view_name": "LayoutView",
            "grid_template_rows": null,
            "right": null,
            "justify_content": null,
            "_view_module": "@jupyter-widgets/base",
            "overflow": null,
            "_model_module_version": "1.2.0",
            "_view_count": null,
            "flex_flow": null,
            "width": null,
            "min_width": null,
            "border": null,
            "align_items": null,
            "bottom": null,
            "_model_module": "@jupyter-widgets/base",
            "top": null,
            "grid_column": null,
            "overflow_y": null,
            "overflow_x": null,
            "grid_auto_flow": null,
            "grid_area": null,
            "grid_template_columns": null,
            "flex": null,
            "_model_name": "LayoutModel",
            "justify_items": null,
            "grid_row": null,
            "max_height": null,
            "align_content": null,
            "visibility": null,
            "align_self": null,
            "height": null,
            "min_height": null,
            "padding": null,
            "grid_auto_rows": null,
            "grid_gap": null,
            "max_width": null,
            "order": null,
            "_view_module_version": "1.2.0",
            "grid_template_areas": null,
            "object_position": null,
            "object_fit": null,
            "grid_auto_columns": null,
            "margin": null,
            "display": null,
            "left": null
          }
        },
        "1d19e5c201fe434daa8d1c606c440cef": {
          "model_module": "@jupyter-widgets/controls",
          "model_name": "FloatProgressModel",
          "state": {
            "_view_name": "ProgressView",
            "style": "IPY_MODEL_9191e61b7e5240f8a4e4de29596ea8ee",
            "_dom_classes": [],
            "description": "100%",
            "_model_name": "FloatProgressModel",
            "bar_style": "success",
            "max": 3839,
            "_view_module": "@jupyter-widgets/controls",
            "_model_module_version": "1.5.0",
            "value": 3839,
            "_view_count": null,
            "_view_module_version": "1.5.0",
            "orientation": "horizontal",
            "min": 0,
            "description_tooltip": null,
            "_model_module": "@jupyter-widgets/controls",
            "layout": "IPY_MODEL_2d10b34c6fb44aa1af3af3204bff5a4f"
          }
        },
        "f55ea322752847a086dc34889abd00b2": {
          "model_module": "@jupyter-widgets/controls",
          "model_name": "HTMLModel",
          "state": {
            "_view_name": "HTMLView",
            "style": "IPY_MODEL_139b44d9fc6c45b9a7692a0929082227",
            "_dom_classes": [],
            "description": "",
            "_model_name": "HTMLModel",
            "placeholder": "​",
            "_view_module": "@jupyter-widgets/controls",
            "_model_module_version": "1.5.0",
            "value": " 3839/3839 [05:55&lt;00:00, 10.80it/s]",
            "_view_count": null,
            "_view_module_version": "1.5.0",
            "description_tooltip": null,
            "_model_module": "@jupyter-widgets/controls",
            "layout": "IPY_MODEL_15c449836e4e4682b319db9b1065f9e9"
          }
        },
        "9191e61b7e5240f8a4e4de29596ea8ee": {
          "model_module": "@jupyter-widgets/controls",
          "model_name": "ProgressStyleModel",
          "state": {
            "_view_name": "StyleView",
            "_model_name": "ProgressStyleModel",
            "description_width": "initial",
            "_view_module": "@jupyter-widgets/base",
            "_model_module_version": "1.5.0",
            "_view_count": null,
            "_view_module_version": "1.2.0",
            "bar_color": null,
            "_model_module": "@jupyter-widgets/controls"
          }
        },
        "2d10b34c6fb44aa1af3af3204bff5a4f": {
          "model_module": "@jupyter-widgets/base",
          "model_name": "LayoutModel",
          "state": {
            "_view_name": "LayoutView",
            "grid_template_rows": null,
            "right": null,
            "justify_content": null,
            "_view_module": "@jupyter-widgets/base",
            "overflow": null,
            "_model_module_version": "1.2.0",
            "_view_count": null,
            "flex_flow": null,
            "width": null,
            "min_width": null,
            "border": null,
            "align_items": null,
            "bottom": null,
            "_model_module": "@jupyter-widgets/base",
            "top": null,
            "grid_column": null,
            "overflow_y": null,
            "overflow_x": null,
            "grid_auto_flow": null,
            "grid_area": null,
            "grid_template_columns": null,
            "flex": null,
            "_model_name": "LayoutModel",
            "justify_items": null,
            "grid_row": null,
            "max_height": null,
            "align_content": null,
            "visibility": null,
            "align_self": null,
            "height": null,
            "min_height": null,
            "padding": null,
            "grid_auto_rows": null,
            "grid_gap": null,
            "max_width": null,
            "order": null,
            "_view_module_version": "1.2.0",
            "grid_template_areas": null,
            "object_position": null,
            "object_fit": null,
            "grid_auto_columns": null,
            "margin": null,
            "display": null,
            "left": null
          }
        },
        "139b44d9fc6c45b9a7692a0929082227": {
          "model_module": "@jupyter-widgets/controls",
          "model_name": "DescriptionStyleModel",
          "state": {
            "_view_name": "StyleView",
            "_model_name": "DescriptionStyleModel",
            "description_width": "",
            "_view_module": "@jupyter-widgets/base",
            "_model_module_version": "1.5.0",
            "_view_count": null,
            "_view_module_version": "1.2.0",
            "_model_module": "@jupyter-widgets/controls"
          }
        },
        "15c449836e4e4682b319db9b1065f9e9": {
          "model_module": "@jupyter-widgets/base",
          "model_name": "LayoutModel",
          "state": {
            "_view_name": "LayoutView",
            "grid_template_rows": null,
            "right": null,
            "justify_content": null,
            "_view_module": "@jupyter-widgets/base",
            "overflow": null,
            "_model_module_version": "1.2.0",
            "_view_count": null,
            "flex_flow": null,
            "width": null,
            "min_width": null,
            "border": null,
            "align_items": null,
            "bottom": null,
            "_model_module": "@jupyter-widgets/base",
            "top": null,
            "grid_column": null,
            "overflow_y": null,
            "overflow_x": null,
            "grid_auto_flow": null,
            "grid_area": null,
            "grid_template_columns": null,
            "flex": null,
            "_model_name": "LayoutModel",
            "justify_items": null,
            "grid_row": null,
            "max_height": null,
            "align_content": null,
            "visibility": null,
            "align_self": null,
            "height": null,
            "min_height": null,
            "padding": null,
            "grid_auto_rows": null,
            "grid_gap": null,
            "max_width": null,
            "order": null,
            "_view_module_version": "1.2.0",
            "grid_template_areas": null,
            "object_position": null,
            "object_fit": null,
            "grid_auto_columns": null,
            "margin": null,
            "display": null,
            "left": null
          }
        }
      }
    }
  },
  "cells": [
    {
      "cell_type": "code",
      "metadata": {
        "colab": {
          "base_uri": "https://localhost:8080/"
        },
        "id": "gAnImu4QH4ja",
        "outputId": "9ed6a4d4-e7ef-4186-d24c-a20b1742e0a3"
      },
      "source": [
        "!pip install torchaudio"
      ],
      "execution_count": null,
      "outputs": [
        {
          "output_type": "stream",
          "text": [
            "Collecting torchaudio\n",
            "\u001b[?25l  Downloading https://files.pythonhosted.org/packages/3f/23/6b54106b3de029d3f10cf8debc302491c17630357449c900d6209665b302/torchaudio-0.7.0-cp36-cp36m-manylinux1_x86_64.whl (7.6MB)\n",
            "\u001b[K     |████████████████████████████████| 7.6MB 16.5MB/s \n",
            "\u001b[?25hRequirement already satisfied: torch==1.7.0 in /usr/local/lib/python3.6/dist-packages (from torchaudio) (1.7.0+cu101)\n",
            "Requirement already satisfied: dataclasses in /usr/local/lib/python3.6/dist-packages (from torch==1.7.0->torchaudio) (0.8)\n",
            "Requirement already satisfied: typing-extensions in /usr/local/lib/python3.6/dist-packages (from torch==1.7.0->torchaudio) (3.7.4.3)\n",
            "Requirement already satisfied: future in /usr/local/lib/python3.6/dist-packages (from torch==1.7.0->torchaudio) (0.16.0)\n",
            "Requirement already satisfied: numpy in /usr/local/lib/python3.6/dist-packages (from torch==1.7.0->torchaudio) (1.18.5)\n",
            "Installing collected packages: torchaudio\n",
            "Successfully installed torchaudio-0.7.0\n"
          ],
          "name": "stdout"
        }
      ]
    },
    {
      "cell_type": "code",
      "metadata": {
        "colab": {
          "base_uri": "https://localhost:8080/"
        },
        "id": "ewmtOFQS5awp",
        "outputId": "2465462f-9e95-467e-a155-e35f0ad1b178"
      },
      "source": [
        "from google.colab import drive\n",
        "drive.mount('/content/drive')"
      ],
      "execution_count": null,
      "outputs": [
        {
          "output_type": "stream",
          "text": [
            "Mounted at /content/drive\n"
          ],
          "name": "stdout"
        }
      ]
    },
    {
      "cell_type": "code",
      "metadata": {
        "code_folding": [
          13,
          27
        ],
        "colab": {
          "base_uri": "https://localhost:8080/"
        },
        "id": "kLryqkqOHflC",
        "outputId": "03f3e50e-71db-40b7-9b95-9fa3f6be066d"
      },
      "source": [
        "from IPython import display\n",
        "from dataclasses import dataclass\n",
        "\n",
        "import torch\n",
        "from torch import nn\n",
        "\n",
        "import torchaudio\n",
        "\n",
        "import librosa\n",
        "from matplotlib import pyplot as plt\n",
        "\n",
        "\n",
        "@dataclass\n",
        "class MelSpectrogramConfig:\n",
        "    sr: int = 22050\n",
        "    win_length: int = 1024\n",
        "    hop_length: int = 256\n",
        "    n_fft: int = 1024\n",
        "    f_min: int = 0\n",
        "    f_max: int = 8000\n",
        "    n_mels: int = 80\n",
        "    power: float = 1.0\n",
        "        \n",
        "    # value of melspectrograms if we fed a silence into `MelSpectrogram`\n",
        "    pad_value: float = -11.5129251\n",
        "\n",
        "\n",
        "class MelSpectrogram(nn.Module):\n",
        "\n",
        "    def __init__(self, config: MelSpectrogramConfig):\n",
        "        super(MelSpectrogram, self).__init__()\n",
        "        \n",
        "        self.config = config\n",
        "\n",
        "        self.mel_spectrogram = torchaudio.transforms.MelSpectrogram(\n",
        "            sample_rate=config.sr,\n",
        "            win_length=config.win_length,\n",
        "            hop_length=config.hop_length,\n",
        "            n_fft=config.n_fft,\n",
        "            f_min=config.f_min,\n",
        "            f_max=config.f_max,\n",
        "            n_mels=config.n_mels\n",
        "        )\n",
        "\n",
        "        # The is no way to set power in constructor in 0.5.0 version.\n",
        "        self.mel_spectrogram.spectrogram.power = config.power\n",
        "\n",
        "        # Default `torchaudio` mel basis uses HTK formula. In order to be compatible with WaveGlow\n",
        "        # we decided to use Slaney one instead (as well as `librosa` does by default).\n",
        "        mel_basis = librosa.filters.mel(\n",
        "            sr=config.sr,\n",
        "            n_fft=config.n_fft,\n",
        "            n_mels=config.n_mels,\n",
        "            fmin=config.f_min,\n",
        "            fmax=config.f_max\n",
        "        ).T\n",
        "        self.mel_spectrogram.mel_scale.fb.copy_(torch.tensor(mel_basis))\n",
        "    \n",
        "\n",
        "    def forward(self, audio: torch.Tensor) -> torch.Tensor:\n",
        "        \"\"\"\n",
        "        :param audio: Expected shape is [B, T]\n",
        "        :return: Shape is [B, n_mels, T']\n",
        "        \"\"\"\n",
        "        \n",
        "        mel = self.mel_spectrogram(audio) \\\n",
        "            .clamp_(min=1e-5) \\\n",
        "            .log_()\n",
        "\n",
        "        return mel"
      ],
      "execution_count": null,
      "outputs": [
        {
          "output_type": "stream",
          "text": [
            "/usr/local/lib/python3.6/dist-packages/torchaudio/backend/utils.py:54: UserWarning: \"sox\" backend is being deprecated. The default backend will be changed to \"sox_io\" backend in 0.8.0 and \"sox\" backend will be removed in 0.9.0. Please migrate to \"sox_io\" backend. Please refer to https://github.com/pytorch/audio/issues/903 for the detail.\n",
            "  '\"sox\" backend is being deprecated. '\n"
          ],
          "name": "stderr"
        }
      ]
    },
    {
      "cell_type": "code",
      "metadata": {
        "colab": {
          "base_uri": "https://localhost:8080/"
        },
        "id": "kfExfaWjHflC",
        "outputId": "86725463-6994-4cf8-b0a0-5d42aa12d1b4"
      },
      "source": [
        "featurizer = MelSpectrogram(MelSpectrogramConfig())"
      ],
      "execution_count": null,
      "outputs": [
        {
          "output_type": "stream",
          "text": [
            "/usr/local/lib/python3.6/dist-packages/torch/functional.py:516: UserWarning: stft will require the return_complex parameter be explicitly  specified in a future PyTorch release. Use return_complex=False  to preserve the current behavior or return_complex=True to return  a complex output. (Triggered internally at  /pytorch/aten/src/ATen/native/SpectralOps.cpp:653.)\n",
            "  normalized, onesided, return_complex)\n",
            "/usr/local/lib/python3.6/dist-packages/torch/functional.py:516: UserWarning: The function torch.rfft is deprecated and will be removed in a future PyTorch release. Use the new torch.fft module functions, instead, by importing torch.fft and calling torch.fft.fft or torch.fft.rfft. (Triggered internally at  /pytorch/aten/src/ATen/native/SpectralOps.cpp:590.)\n",
            "  normalized, onesided, return_complex)\n"
          ],
          "name": "stderr"
        }
      ]
    },
    {
      "cell_type": "code",
      "metadata": {
        "id": "DHpa7xoqd3tI"
      },
      "source": [
        "import pandas as pd\n",
        "from torch.utils.data import Dataset, DataLoader\n",
        "import string\n",
        "import numpy as np\n",
        "from math import isnan\n",
        "import random\n",
        "\n",
        "import os\n",
        "import glob\n",
        "from torch.nn.utils.rnn import pad_sequence\n",
        "from functools import partial\n",
        "from torch.utils.data import random_split\n",
        "\n",
        "from tqdm import tqdm_notebook\n",
        "from torch.optim import Adam"
      ],
      "execution_count": null,
      "outputs": []
    },
    {
      "cell_type": "code",
      "metadata": {
        "id": "kB3jpdLrmVNN"
      },
      "source": [
        "def set_seed(n):\n",
        "    torch.backends.cudnn.deterministic=True\n",
        "    torch.manual_seed = n\n",
        "    random.seed(n)\n",
        "    np.random.seed(n)"
      ],
      "execution_count": null,
      "outputs": []
    },
    {
      "cell_type": "code",
      "metadata": {
        "id": "PjMw-N4JRQSM"
      },
      "source": [
        "class LJ_speech(Dataset):\n",
        "\n",
        "    def __init__(self, wav_ids, root_dir, crop=15000):\n",
        "        self.wav_ids = wav_ids\n",
        "        self.root_dir = root_dir\n",
        "        self.crop=crop\n",
        "\n",
        "    def __len__(self):\n",
        "        return len(self.wav_ids)\n",
        "\n",
        "    def __getitem__(self, idx):\n",
        "        if torch.is_tensor(idx):\n",
        "            idx = idx.tolist()\n",
        "\n",
        "        wav_name = os.path.join(self.root_dir,\n",
        "                                self.wav_ids[idx])\n",
        "        wav, _ = torchaudio.load(wav_name)\n",
        "        wav=wav[0]\n",
        "        start = np.random.randint(low=0, high = len(wav) - self.crop - 1)\n",
        "        sample = wav[start : start+self.crop]\n",
        "        return sample"
      ],
      "execution_count": null,
      "outputs": []
    },
    {
      "cell_type": "code",
      "metadata": {
        "id": "c6J3KG8Tj-yI"
      },
      "source": [
        "def my_collate(data, mu_law, featurizer):\n",
        "    max_len = 0\n",
        "    \n",
        "    mels = []\n",
        "    wav_batch = torch.stack(data)\n",
        "    for i in range(len(wav_batch)):\n",
        "      mels.append(featurizer(wav_batch[i]))\n",
        "      wav_batch[i] = mu_law(wav_batch[i])\n",
        "    \n",
        "    mels_batch = torch.stack(mels)\n",
        "    return mels_batch, wav_batch"
      ],
      "execution_count": null,
      "outputs": []
    },
    {
      "cell_type": "code",
      "metadata": {
        "id": "z0xdfglfBtk3"
      },
      "source": [
        "class Block(nn.Module):\n",
        "    \n",
        "    def __init__(self, n_mels, dilation, r, s=240):\n",
        "        super(Block, self).__init__()\n",
        "        self.conditional = nn.Conv1d(n_mels, 2*r, kernel_size=1)\n",
        "        self.dilated = nn.Conv1d(r, 2*r, kernel_size=2, dilation=dilation)\n",
        "        self.left_pad = nn.ConstantPad1d((dilation, 0), 0)\n",
        "\n",
        "        self.t = nn.Tanh()\n",
        "        self.s = nn.Sigmoid()\n",
        "        self.skip = nn.Conv1d(r, s, kernel_size=1)\n",
        "        self.residual = nn.Conv1d(r, r, kernel_size=1)\n",
        "        self.r=r\n",
        "\n",
        "    def forward(self, mel, wav):\n",
        "        \n",
        "        wav_dilated = self.left_pad(wav)\n",
        "        mel = self.conditional(mel)\n",
        "        wav_dilated = self.dilated(wav_dilated)\n",
        "        xt = mel[:, :self.r] + wav_dilated[:, :self.r] #??\n",
        "        xs = mel[:, self.r:] + wav_dilated[:, self.r:]\n",
        "        xt = self.t(xt)\n",
        "        xs = self.s(xs)\n",
        "        x = xt * xs\n",
        "        return self.skip(x), self.residual(x)+wav\n"
      ],
      "execution_count": null,
      "outputs": []
    },
    {
      "cell_type": "code",
      "metadata": {
        "id": "iKhPVSQd7j2l"
      },
      "source": [
        "\n",
        "class WaveNet(nn.Module):\n",
        "    \n",
        "    def __init__(self, device, hop_len=256, upsample_kernel=512, n_mels=80, caus_ks=256, r=120, s=240, a=256, n_blocks=16):\n",
        "        super(WaveNet, self).__init__()\n",
        "        self.hop_len=hop_len\n",
        "        self.a=a\n",
        "        self.upsample = nn.ConvTranspose1d(n_mels, n_mels, kernel_size=upsample_kernel, stride=hop_len, padding=upsample_kernel//2)\n",
        "\n",
        "        self.left_pad = nn.ConstantPad1d((caus_ks-1, 0), 0)\n",
        "        self.causal = nn.Conv1d(1, r, kernel_size=caus_ks)\n",
        "\n",
        "        dilations = [2**i for i in range(8)]\n",
        "        dilations.extend(dilations)\n",
        "        self.blocks = nn.ModuleList([Block(n_mels=n_mels, dilation=i, r=r, s=s) for i in dilations])\n",
        "\n",
        "        self.relu1 = nn.ReLU(True)\n",
        "        self.out = nn.Conv1d(s, a, kernel_size=1)\n",
        "        self.relu2 = nn.ReLU(True)\n",
        "        self.end = nn.Conv1d(a, a, kernel_size=1)\n",
        "        self.device=device\n",
        "\n",
        "        print('upsample:', count_parameters(self.upsample))\n",
        "        print('causal', count_parameters(self.causal))\n",
        "        print('blocks', count_parameters(self.blocks))\n",
        "        print('out', count_parameters(self.out))\n",
        "        print('end', count_parameters(self.end))\n",
        "    \n",
        "    def forward(self, mel, wav, UP = True):\n",
        "        if UP:\n",
        "          mel = self.upsample(mel)\n",
        "          mel = mel[:, :, 1:]\n",
        "          \n",
        "        wav = self.left_pad(wav).unsqueeze(1)\n",
        "        wav = self.causal(wav)\n",
        "        skips = None\n",
        "        for block in self.blocks:\n",
        "          skip, wav = block(mel, wav)\n",
        "          if skips is None:\n",
        "            skips = skip\n",
        "          else:\n",
        "            skips = skips+skip\n",
        "        res = self.relu1(skips)\n",
        "        res = self.out(res)\n",
        "        res = self.relu2(res)\n",
        "        return self.end(res)\n",
        "\n",
        "    def inference(self, mel):\n",
        "        mel = self.upsample(mel)\n",
        "        res = self.forward(mel[:, :, 0].unsqueeze(2), torch.tensor([[0.0]]).to(self.device), UP=False) #предсказываем первый вав по первому мелу и 0.0\n",
        "        out = torch.zeros(mel.shape[2]).to(self.device) #создаем тензор длины апнутого мела\n",
        "        out[0] = torch.argmax(res, dim=1).type(torch.FloatTensor)[0][0] #первый эелемент уже предсказали, остальное в цикле\n",
        "        pbar = tqdm_notebook(total = mel.shape[2]-1)\n",
        "\n",
        "        for i in range(1, mel.shape[2]):\n",
        "          res = self.forward(mel[:, :, 1:i+1], out[:i].unsqueeze(0), UP=False)\n",
        "          out[i] = torch.argmax(res, dim=1).type(torch.FloatTensor)[0][-1]\n",
        "          pbar.update(1)\n",
        "        pbar.close()\n",
        "        return out"
      ],
      "execution_count": null,
      "outputs": []
    },
    {
      "cell_type": "code",
      "metadata": {
        "id": "Hq65fVxxrGQi"
      },
      "source": [
        "def count_parameters(model):\n",
        "    model_parameters = filter(lambda p: p.requires_grad, model.parameters())\n",
        "    return sum([np.prod(p.size()) for p in model_parameters])"
      ],
      "execution_count": null,
      "outputs": []
    },
    {
      "cell_type": "code",
      "metadata": {
        "colab": {
          "base_uri": "https://localhost:8080/"
        },
        "id": "REsOYv-7JRbG",
        "outputId": "d5050e20-5087-4922-e39c-4f8965aa437a"
      },
      "source": [
        "device = torch.device('cuda' if torch.cuda.is_available() else 'cpu')\n",
        "model = WaveNet(device).to(device)\n",
        "\n",
        "lr = 0.001\n",
        "optimizer = Adam(model.parameters(), lr=lr)\n",
        "\n",
        "criterion = nn.CrossEntropyLoss()"
      ],
      "execution_count": null,
      "outputs": [
        {
          "output_type": "stream",
          "text": [
            "upsample: 3276880\n",
            "causal 30840\n",
            "blocks 1933440\n",
            "out 61696\n",
            "end 65792\n"
          ],
          "name": "stdout"
        }
      ]
    },
    {
      "cell_type": "code",
      "metadata": {
        "id": "TJDW0yDtnJu1"
      },
      "source": [
        "mu_law = torchaudio.transforms.MuLawEncoding(quantization_channels=256)\n",
        "mu_law_dec = torchaudio.transforms.MuLawDecoding(quantization_channels=256)"
      ],
      "execution_count": null,
      "outputs": []
    },
    {
      "cell_type": "code",
      "metadata": {
        "id": "b6o756y7nM7k"
      },
      "source": [
        "from os import listdir\n",
        "from os.path import isfile, join\n",
        "\n",
        "set_seed(42)\n",
        "CROP=3840\n",
        "\n",
        "root = '/content/drive/MyDrive/DLA/hw5/LJSpeech-1.1/wavs/'\n",
        "\n",
        "wav_ids = [f for f in listdir(root) if isfile(join(root, f))]\n",
        "\n",
        "dataset = LJ_speech(wav_ids, root, crop=CROP)\n",
        "\n",
        "data_len = len(dataset)\n",
        "test_len = int(data_len*0.3)\n",
        "train_len = data_len - test_len\n",
        "\n",
        "train, val = random_split(dataset, [train_len, test_len])\n",
        "\n",
        "batch_size= 1\n",
        "train_loader = torch.utils.data.DataLoader(train, batch_size=batch_size, shuffle=True, collate_fn=partial(my_collate, mu_law=mu_law, featurizer=featurizer))\n",
        "\n",
        "val_loader = torch.utils.data.DataLoader(val, batch_size=batch_size, shuffle=True, collate_fn=partial(my_collate, mu_law=mu_law, featurizer=featurizer))"
      ],
      "execution_count": null,
      "outputs": []
    },
    {
      "cell_type": "code",
      "metadata": {
        "id": "AD_4cedAnRDg"
      },
      "source": [
        "batch_size= 1\n",
        "train_loader = torch.utils.data.DataLoader(train, batch_size=batch_size, shuffle=True, collate_fn=partial(my_collate, mu_law=mu_law, featurizer=featurizer))\n",
        "\n",
        "val_loader = torch.utils.data.DataLoader(val, batch_size=batch_size, shuffle=True, collate_fn=partial(my_collate, mu_law=mu_law, featurizer=featurizer))"
      ],
      "execution_count": null,
      "outputs": []
    },
    {
      "cell_type": "code",
      "metadata": {
        "colab": {
          "base_uri": "https://localhost:8080/"
        },
        "id": "61qfgyKQ7BL7",
        "outputId": "d8b89454-2bec-43ff-af32-2c4aa1a5080d"
      },
      "source": [
        "def count_parameters(model):\n",
        "    model_parameters = filter(lambda p: p.requires_grad, model.parameters())\n",
        "    return sum([np.prod(p.size()) for p in model_parameters])\n",
        "print(\"Total number of trainable parameters:\", count_parameters(model))"
      ],
      "execution_count": null,
      "outputs": [
        {
          "output_type": "stream",
          "text": [
            "Total number of trainable parameters: 5368648\n"
          ],
          "name": "stdout"
        }
      ]
    },
    {
      "cell_type": "code",
      "metadata": {
        "id": "zJqoFJREPK62"
      },
      "source": [
        "for data in train_loader:\n",
        "    mel, wav = data\n",
        "    mel = mel.to(device)\n",
        "    wav = wav.to(device)\n",
        "    break"
      ],
      "execution_count": null,
      "outputs": []
    },
    {
      "cell_type": "code",
      "metadata": {
        "colab": {
          "base_uri": "https://localhost:8080/"
        },
        "id": "GVrecokU8jax",
        "outputId": "dc942ab4-f2b6-4c08-cb06-a65e9ba0a068"
      },
      "source": [
        "\n",
        "running_loss=0.0\n",
        "ctr=0\n",
        "for i in range(121):\n",
        "    model.train()\n",
        "    optimizer.zero_grad()\n",
        "    output = model(mel, wav[:, :-1])\n",
        "    output = output.transpose(-1, -2)\n",
        "    loss = criterion(output.view(-1, 256), wav[:, 1:].contiguous().view(-1).type(torch.LongTensor).to(device))\n",
        "    running_loss += loss.item()\n",
        "    \n",
        "    loss.backward()\n",
        "\n",
        "    optimizer.step()\n",
        "\n",
        "    ctr+=1\n",
        "    if i % 20 == 0:\n",
        "      print(i, running_loss/ctr)\n",
        "      running_loss=0.0\n",
        "      ctr=0\n"
      ],
      "execution_count": null,
      "outputs": [
        {
          "output_type": "stream",
          "text": [
            "0 5.61366081237793\n",
            "20 4.605811190605164\n",
            "40 3.57071613073349\n",
            "60 2.3093676567077637\n",
            "80 1.0259847566485405\n",
            "100 0.16184781584888697\n",
            "120 0.02658768678084016\n"
          ],
          "name": "stdout"
        }
      ]
    },
    {
      "cell_type": "code",
      "metadata": {
        "colab": {
          "base_uri": "https://localhost:8080/",
          "height": 101,
          "referenced_widgets": [
            "0810e4d1fcd042f7ace4b58973ca42e5",
            "a9b8c5a3467e442a806ec17a745e985d",
            "1d19e5c201fe434daa8d1c606c440cef",
            "f55ea322752847a086dc34889abd00b2",
            "9191e61b7e5240f8a4e4de29596ea8ee",
            "2d10b34c6fb44aa1af3af3204bff5a4f",
            "139b44d9fc6c45b9a7692a0929082227",
            "15c449836e4e4682b319db9b1065f9e9"
          ]
        },
        "id": "MAVO3CaM7rJi",
        "outputId": "2481fd7c-2fa6-4944-917f-d2f99e9b7e30"
      },
      "source": [
        "model.eval()\n",
        "with torch.no_grad():\n",
        "  pred = model.inference(mel)"
      ],
      "execution_count": null,
      "outputs": [
        {
          "output_type": "stream",
          "text": [
            "/usr/local/lib/python3.6/dist-packages/ipykernel_launcher.py:70: TqdmDeprecationWarning: This function will be removed in tqdm==5.0.0\n",
            "Please use `tqdm.notebook.tqdm` instead of `tqdm.tqdm_notebook`\n"
          ],
          "name": "stderr"
        },
        {
          "output_type": "display_data",
          "data": {
            "application/vnd.jupyter.widget-view+json": {
              "model_id": "0810e4d1fcd042f7ace4b58973ca42e5",
              "version_minor": 0,
              "version_major": 2
            },
            "text/plain": [
              "HBox(children=(FloatProgress(value=0.0, max=3839.0), HTML(value='')))"
            ]
          },
          "metadata": {
            "tags": []
          }
        },
        {
          "output_type": "stream",
          "text": [
            "\n"
          ],
          "name": "stdout"
        }
      ]
    },
    {
      "cell_type": "code",
      "metadata": {
        "id": "d4vu_jUvgnNK"
      },
      "source": [
        "decoded_pred = mu_law_dec(pred)\n",
        "decoded_wav = mu_law_dec(wav[0])"
      ],
      "execution_count": null,
      "outputs": []
    },
    {
      "cell_type": "code",
      "metadata": {
        "colab": {
          "base_uri": "https://localhost:8080/",
          "height": 545
        },
        "id": "3D3ijVjShQ2P",
        "outputId": "e5ced3a5-275d-4c9d-ef8f-4bf0583d3e3f"
      },
      "source": [
        "plt.plot(decoded_wav.cpu())\n",
        "plt.title('decoded initial wav')\n",
        "plt.show()\n",
        "\n",
        "plt.plot(decoded_pred.cpu())\n",
        "plt.title('decoded prediction')\n",
        "plt.show()"
      ],
      "execution_count": null,
      "outputs": [
        {
          "output_type": "display_data",
          "data": {
            "image/png": "[encoded data removed]",
            "text/plain": [
              "<Figure size 432x288 with 1 Axes>"
            ]
          },
          "metadata": {
            "tags": [],
            "needs_background": "light"
          }
        },
        {
          "output_type": "display_data",
          "data": {
            "image/png": "[encoded data removed]",
            "text/plain": [
              "<Figure size 432x288 with 1 Axes>"
            ]
          },
          "metadata": {
            "tags": [],
            "needs_background": "light"
          }
        }
      ]
    }
  ]
}